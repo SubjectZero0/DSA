{
 "cells": [
  {
   "cell_type": "markdown",
   "metadata": {},
   "source": [
    "# Rule #1. Always take the worst case scenario"
   ]
  },
  {
   "cell_type": "code",
   "execution_count": null,
   "metadata": {},
   "outputs": [],
   "source": [
    "def find_nemo(fish_array: list[str]) -> dict[str, int]:\n",
    "    ops_counter = 0 # O(1)\n",
    "    for fish in fish_array: # O(n)\n",
    "        ops_counter+=1 # for every operation we increase the counter # O(n)\n",
    "        \n",
    "    dictionary = dict(no_items = len(fish_array), ops_counter = ops_counter) # O(1)\n",
    "\n",
    "    return dictionary # O(1)\n"
   ]
  },
  {
   "cell_type": "markdown",
   "metadata": {},
   "source": [
    "*Calculation is the sum O(1) + O(n) + O(n) + O(1) + O(1) = O(1 + n + n + 1+ 1) = O(3 + 3n)*\n",
    "\n",
    "The thing here is to compare calculating BigO to calculating limits of sequences. \n",
    "\n",
    "If n can go to infinity, the limit of 3 + 3n is infinity. \n",
    "\n",
    "So the worst case is that the n is included in the calculation and it can go so high, that the other parameters dont matter.\n",
    "\n",
    "So in cocnlusion the calculation is O(n)."
   ]
  },
  {
   "cell_type": "markdown",
   "metadata": {},
   "source": [
    "# Rule #2. Drop the constants"
   ]
  },
  {
   "cell_type": "code",
   "execution_count": 2,
   "metadata": {},
   "outputs": [],
   "source": [
    "import math\n",
    "\n",
    "def printFirstItemThenFirstHalfThenSayHi100Times(items):\n",
    "    print(items[0]) # O(1)\n",
    "\n",
    "    middleIndex = math.floor(items.length / 2) # O(1)\n",
    "    index = 0 # O(1)\n",
    "\n",
    "    while index < middleIndex: # O(n/2)\n",
    "        print(items[index]) # O(n/2)\n",
    "        index += 1 # O(n/2)\n",
    "    \n",
    "\n",
    "    for i in range(100): # O(100)\n",
    "        print('hi') # O(100)"
   ]
  },
  {
   "cell_type": "markdown",
   "metadata": {},
   "source": [
    "In this case O(3 + 3*(n/2) + 200) = O(203 + 3(n/2)).\n",
    "\n",
    "Again, if we look at this as if calculating a limit for n going to infinity, then lim(203 +3*(n/2)) = infinity.\n",
    "\n",
    "In the grand scheme of things the constant 203 plays no part in calculations. Same goes for the 3/2. 1.5 times infinity is still infinity.\n",
    "\n",
    "Therefore we drop the constants and stick to the principle that this is still a line that grows relevant to n. \n",
    "\n",
    "So the calculation is O(n)."
   ]
  },
  {
   "cell_type": "markdown",
   "metadata": {},
   "source": [
    "# Rule 3. Different terms for different inputs"
   ]
  },
  {
   "cell_type": "code",
   "execution_count": null,
   "metadata": {},
   "outputs": [],
   "source": [
    "import math\n",
    "\n",
    "def printItems(items1, items2):\n",
    "\n",
    "    index = 0\n",
    "    while index < len(items1): # O(a)\n",
    "        print(items1[index]) # O(a)\n",
    "        index += 1 # O(a)\n",
    "    \n",
    "    index = 0\n",
    "    while index < len(items2): # O(b)\n",
    "        print(items2[index]) # O(b)\n",
    "        index += 1 # O(b)"
   ]
  },
  {
   "cell_type": "markdown",
   "metadata": {},
   "source": [
    "In this case we have 2 different inputs. Items1 and Items2. \n",
    "\n",
    "The BigO notation is not O(n), because these two may have different lengths.\n",
    "\n",
    "So We use different terms for them.\n",
    "\n",
    "The calculation is actually O(a + b). Could it be O(max(a, b))?"
   ]
  }
 ],
 "metadata": {
  "kernelspec": {
   "display_name": ".venv",
   "language": "python",
   "name": "python3"
  },
  "language_info": {
   "codemirror_mode": {
    "name": "ipython",
    "version": 3
   },
   "file_extension": ".py",
   "mimetype": "text/x-python",
   "name": "python",
   "nbconvert_exporter": "python",
   "pygments_lexer": "ipython3",
   "version": "3.12.2"
  }
 },
 "nbformat": 4,
 "nbformat_minor": 2
}
